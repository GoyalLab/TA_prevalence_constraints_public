{
 "cells": [
  {
   "cell_type": "code",
   "execution_count": null,
   "metadata": {},
   "outputs": [],
   "source": [
    "### Comparing NMD-regulator and COMPASS component expression vs. %paralog upregulation for Mellis et al. 2023\n",
    "### Created by Madeline E Melzer on 20231121, Last edit by Madeline E Melzer on 20231122"
   ]
  },
  {
   "cell_type": "code",
   "execution_count": 1,
   "metadata": {},
   "outputs": [],
   "source": [
    "import os\n",
    "import pandas as pd\n",
    "import numpy as np"
   ]
  },
  {
   "cell_type": "code",
   "execution_count": 13,
   "metadata": {},
   "outputs": [],
   "source": [
    "deseq_files = \"/Users/mem3579/Library/CloudStorage/OneDrive-NorthwesternUniversity/Arispe and Goyal Labs/transcriptionalCompensation/grn_nitc/rnaseq/deseq_files/\"\n",
    "lengthDir = \"/Users/mem3579/Library/CloudStorage/OneDrive-NorthwesternUniversity/Arispe and Goyal Labs/transcriptionalCompensation/grn_nitc/rnaseq/supp_analyses/length/data/\"\n",
    "outputDir = \"/Users/mem3579/Library/CloudStorage/OneDrive-NorthwesternUniversity/Arispe and Goyal Labs/transcriptionalCompensation/grn_nitc/rnaseq/supp_analyses/nitc_components/data/\"\n",
    "\n",
    "np.random.seed(23)"
   ]
  },
  {
   "cell_type": "code",
   "execution_count": 16,
   "metadata": {},
   "outputs": [
    {
     "name": "stderr",
     "output_type": "stream",
     "text": [
      "/var/folders/lj/t95zdh7s6q1728bs885tygr0f794qx/T/ipykernel_32939/2586982137.py:20: DtypeWarning: Columns (0,1,2,3,4,5) have mixed types. Specify dtype option on import or set low_memory=False.\n",
      "  df = pd.read_csv(\"/Users/mem3579/Library/CloudStorage/OneDrive-NorthwesternUniversity/Arispe and Goyal Labs/transcriptionalCompensation/GSE151825/differentialExpression_DESeq_allTargets.csv\")\n"
     ]
    }
   ],
   "source": [
    "# these genes are 12 mechanistically-significant genes for the NITC pathway. The first 8 are COMPASS components, the last 4 are NMD regulators. Case-sensitive for species.\n",
    "genes_of_interest = [\"SETD1A\", \"SETD1B\", \"ASH2L\", \"RBBP5\", \"CXXC1\", \"WDR82\", \"WDR5\", \"DPY30\", \"UPF1\", \"UPF2\", \"UPF3A\", \"UPF3B\", \n",
    "                     \"Setd1a\", \"Setd1b\", \"Ash2l\", \"Rbbp5\", \"Cxxc1\", \"Wdr82\", \"Wdr5\", \"Dpy30\", \"Upf1\", \"Upf2\", \"Upf3a\", \"Upf3b\"]\n",
    "\n",
    "dfs = []\n",
    "\n",
    "for folder in os.listdir(deseq_files):\n",
    "    folder_path = os.path.join(deseq_files, folder)\n",
    "    if os.path.isdir(folder_path):\n",
    "        # Assuming there is only one .csv file per folder\n",
    "        for file in os.listdir(folder_path):\n",
    "            if file.endswith('.csv'):\n",
    "                file_path = os.path.join(folder_path, file)\n",
    "                df = pd.read_csv(file_path)\n",
    "                filtered_df = df[df['gene_name'].isin(genes_of_interest)].copy()\n",
    "                filtered_df['dataset'] = folder\n",
    "                dfs.append(filtered_df)\n",
    "\n",
    "#adding in GSE151825 which is too large of a file to be put on github\n",
    "df = pd.read_csv(\"/Users/mem3579/Library/CloudStorage/OneDrive-NorthwesternUniversity/Arispe and Goyal Labs/transcriptionalCompensation/GSE151825/differentialExpression_DESeq_allTargets.csv\")\n",
    "filtered_df = df[df['gene_name'].isin(genes_of_interest)].copy()\n",
    "filtered_df['dataset'] = \"GSE151825\"\n",
    "dfs.append(filtered_df)\n",
    "\n",
    "#adding in GSE145653-1 which is too large of a file to be put on github\n",
    "df = pd.read_csv(\"/Users/mem3579/Library/CloudStorage/OneDrive-NorthwesternUniversity/Arispe and Goyal Labs/transcriptionalCompensation/GSE145653-1/differentialExpression_DESeq_allTargets.csv\")\n",
    "filtered_df = df[df['gene_name'].isin(genes_of_interest)].copy()\n",
    "filtered_df['dataset'] = \"GSE145653-1\"\n",
    "dfs.append(filtered_df)\n",
    "\n",
    "final_df = pd.concat(dfs, ignore_index=True)\n",
    "\n",
    "# Rename 'sampleKO' to 'ko_gene' and 'gene_name' to 'component_gene' for clarity\n",
    "final_df = final_df.rename(columns={'sampleKO': 'ko_gene', 'gene_name': 'component_gene'})"
   ]
  },
  {
   "cell_type": "code",
   "execution_count": 17,
   "metadata": {},
   "outputs": [],
   "source": [
    "# adding in the %paralog upregulation data\n",
    "\n",
    "pctUpregs = pd.read_csv(os.path.join(lengthDir, 'combinedPctUpregs.csv'))\n",
    "\n",
    "# Create a subset of paralogs DataFrame\n",
    "pctUpregs_subset = pctUpregs[['Gene', 'Percent Upregulated', 'p_value', 'dataset']]\n",
    "pctUpregs_subset = pctUpregs_subset.rename(columns={'Gene': 'ko_gene'})\n",
    "\n",
    "# Perform an inner join based on \"ko_gene\" and \"dataset\" columns\n",
    "components = pd.merge(final_df, pctUpregs_subset, how='left', on=['ko_gene', 'dataset'])\n",
    "\n",
    "# Save the joined data to a new CSV file\n",
    "combined_file_path = os.path.join(outputDir, 'mechanismComponents_baseMeans.csv')\n",
    "components.to_csv(combined_file_path, index=False)"
   ]
  },
  {
   "cell_type": "code",
   "execution_count": null,
   "metadata": {},
   "outputs": [],
   "source": []
  }
 ],
 "metadata": {
  "kernelspec": {
   "display_name": "Python 3",
   "language": "python",
   "name": "python3"
  },
  "language_info": {
   "codemirror_mode": {
    "name": "ipython",
    "version": 3
   },
   "file_extension": ".py",
   "mimetype": "text/x-python",
   "name": "python",
   "nbconvert_exporter": "python",
   "pygments_lexer": "ipython3",
   "version": "3.9.6"
  }
 },
 "nbformat": 4,
 "nbformat_minor": 2
}
